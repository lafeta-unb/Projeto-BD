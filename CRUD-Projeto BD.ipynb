{
 "cells": [
  {
   "cell_type": "code",
   "execution_count": null,
   "metadata": {},
   "outputs": [],
   "source": [
    "# Estabelecendo a conexão\n",
    "import  mysql.connector  \n",
    "mysqldb = mysql.connector.connect (host = \"localhost\" , user = \"root\" , password = \" \", database = \"Projeto_BD\")\n",
    "\n",
    "\n"
   ]
  },
  {
   "cell_type": "code",
   "execution_count": null,
   "metadata": {},
   "outputs": [],
   "source": [
    "# Create\n",
    "mycursor=mysqldb.cursor()\n",
    "mycursor.execute(\"create table aluno (Cod_aluno INT, nome VARCHAR (255),  sobrenome VARCHAR (255), internet_em_casa VARCHAR (45), série VARCHAR (45), turma VARCHAR (45))\" )\n",
    "mysqldb.close ()"
   ]
  },
  {
   "cell_type": "code",
   "execution_count": null,
   "metadata": {},
   "outputs": [],
   "source": [
    "# Insert\n",
    "mycursor=mysqldb.cursor()\n",
    "try:  \n",
    "   mycursor.execute(\"insert into aluno values(1240, 'Davi', 'Martinez', 'sim', '3°', 'A')\n",
    "   mysqldb.commit ()   \n",
    "   print('Registro inserido com sucesso ...')   \n",
    "except:  \n",
    " mysqldb.rollback ()  \n",
    "mysqldb.close ()"
   ]
  },
  {
   "cell_type": "code",
   "execution_count": null,
   "metadata": {},
   "outputs": [],
   "source": [
    "# Read\n",
    "mycursor=mysqldb.cursor()\n",
    "try:  \n",
    "   mycursor.execute(\"select * from alunos\")\n",
    "   result=mycursor.fetchall() \n",
    "   for i in result:    \n",
    "      Cod_aluno = i [ 0 ]  \n",
    "      Nome = i [ 1 ]  \n",
    "      Sobrenome = i [ 2 ]  \n",
    "      Internet_em_casa = i [ 3 ]\n",
    "      Série = i [ 4 ]\n",
    "      Turma = i [ 5 ]\n",
    "      print(Cod_aluno, nome, sobrenome, internet_em_casa, série, turma)  \n",
    "except:   \n",
    "   print('Erro: Não foi possível buscar dados.')  \n",
    "mysqldb.close()"
   ]
  },
  {
   "cell_type": "code",
   "execution_count": null,
   "metadata": {},
   "outputs": [],
   "source": [
    "#Update\n",
    "mycursor=mysqldb.cursor()\n",
    "try:  \n",
    "   mycursor.execute(\"UPDATE aluno SET nome='Claudio', internet_em_casa='não' WHERE Cod_aluno=1240\")\n",
    "   mysqldb.commit()\n",
    "   print('Registro atualizado com sucesso ...')   \n",
    "except:   \n",
    "   mysqldb.rollback()  \n",
    "mysqldb.close()"
   ]
  },
  {
   "cell_type": "code",
   "execution_count": null,
   "metadata": {},
   "outputs": [],
   "source": [
    "# Delete\n",
    "mycursor=mysqldb.cursor()   \n",
    "try:   \n",
    "   mycursor.execute(\"DELETE FROM aluno WHERE Cod_aluno = 1240\")   \n",
    "   mysqldb.commit() \n",
    "   print('Registro detectado com sucesso ...')  \n",
    "except:  \n",
    "   mysqldb.rollback()  \n",
    "mysqldb.close()"
   ]
  }
 ],
 "metadata": {
  "kernelspec": {
   "display_name": "Python 3",
   "language": "python",
   "name": "python3"
  },
  "language_info": {
   "codemirror_mode": {
    "name": "ipython",
    "version": 3
   },
   "file_extension": ".py",
   "mimetype": "text/x-python",
   "name": "python",
   "nbconvert_exporter": "python",
   "pygments_lexer": "ipython3",
   "version": "3.7.1"
  }
 },
 "nbformat": 4,
 "nbformat_minor": 2
}
